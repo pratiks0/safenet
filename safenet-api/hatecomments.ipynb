{
 "cells": [
  {
   "cell_type": "code",
   "execution_count": 1,
   "id": "c9935ca7-a17c-41c6-af9c-5dc1868168b9",
   "metadata": {},
   "outputs": [],
   "source": [
    "import pandas as pd\n",
    "import numpy as np\n",
    "\n",
    "from sklearn.model_selection import train_test_split\n",
    "\n",
    "from sklearn.feature_extraction.text import TfidfVectorizer\n",
    "\n",
    "from sklearn.multiclass import OneVsRestClassifier\n",
    "\n",
    "from sklearn.linear_model import LogisticRegression\n",
    "\n",
    "from sklearn.metrics import classification_report\n"
   ]
  },
  {
   "cell_type": "code",
   "execution_count": 2,
   "id": "865c6440-87d3-4975-b368-611f21c84077",
   "metadata": {},
   "outputs": [
    {
     "data": {
      "text/html": [
       "<div>\n",
       "<style scoped>\n",
       "    .dataframe tbody tr th:only-of-type {\n",
       "        vertical-align: middle;\n",
       "    }\n",
       "\n",
       "    .dataframe tbody tr th {\n",
       "        vertical-align: top;\n",
       "    }\n",
       "\n",
       "    .dataframe thead th {\n",
       "        text-align: right;\n",
       "    }\n",
       "</style>\n",
       "<table border=\"1\" class=\"dataframe\">\n",
       "  <thead>\n",
       "    <tr style=\"text-align: right;\">\n",
       "      <th></th>\n",
       "      <th>id</th>\n",
       "      <th>comment_text</th>\n",
       "      <th>toxic</th>\n",
       "      <th>severe_toxic</th>\n",
       "      <th>obscene</th>\n",
       "      <th>threat</th>\n",
       "      <th>insult</th>\n",
       "      <th>identity_hate</th>\n",
       "    </tr>\n",
       "  </thead>\n",
       "  <tbody>\n",
       "    <tr>\n",
       "      <th>0</th>\n",
       "      <td>0000997932d777bf</td>\n",
       "      <td>Explanation\\nWhy the edits made under my usern...</td>\n",
       "      <td>0</td>\n",
       "      <td>0</td>\n",
       "      <td>0</td>\n",
       "      <td>0</td>\n",
       "      <td>0</td>\n",
       "      <td>0</td>\n",
       "    </tr>\n",
       "    <tr>\n",
       "      <th>1</th>\n",
       "      <td>000103f0d9cfb60f</td>\n",
       "      <td>D'aww! He matches this background colour I'm s...</td>\n",
       "      <td>0</td>\n",
       "      <td>0</td>\n",
       "      <td>0</td>\n",
       "      <td>0</td>\n",
       "      <td>0</td>\n",
       "      <td>0</td>\n",
       "    </tr>\n",
       "    <tr>\n",
       "      <th>2</th>\n",
       "      <td>000113f07ec002fd</td>\n",
       "      <td>Hey man, I'm really not trying to edit war. It...</td>\n",
       "      <td>0</td>\n",
       "      <td>0</td>\n",
       "      <td>0</td>\n",
       "      <td>0</td>\n",
       "      <td>0</td>\n",
       "      <td>0</td>\n",
       "    </tr>\n",
       "    <tr>\n",
       "      <th>3</th>\n",
       "      <td>0001b41b1c6bb37e</td>\n",
       "      <td>\"\\nMore\\nI can't make any real suggestions on ...</td>\n",
       "      <td>0</td>\n",
       "      <td>0</td>\n",
       "      <td>0</td>\n",
       "      <td>0</td>\n",
       "      <td>0</td>\n",
       "      <td>0</td>\n",
       "    </tr>\n",
       "    <tr>\n",
       "      <th>4</th>\n",
       "      <td>0001d958c54c6e35</td>\n",
       "      <td>You, sir, are my hero. Any chance you remember...</td>\n",
       "      <td>0</td>\n",
       "      <td>0</td>\n",
       "      <td>0</td>\n",
       "      <td>0</td>\n",
       "      <td>0</td>\n",
       "      <td>0</td>\n",
       "    </tr>\n",
       "  </tbody>\n",
       "</table>\n",
       "</div>"
      ],
      "text/plain": [
       "                 id                                       comment_text  toxic  \\\n",
       "0  0000997932d777bf  Explanation\\nWhy the edits made under my usern...      0   \n",
       "1  000103f0d9cfb60f  D'aww! He matches this background colour I'm s...      0   \n",
       "2  000113f07ec002fd  Hey man, I'm really not trying to edit war. It...      0   \n",
       "3  0001b41b1c6bb37e  \"\\nMore\\nI can't make any real suggestions on ...      0   \n",
       "4  0001d958c54c6e35  You, sir, are my hero. Any chance you remember...      0   \n",
       "\n",
       "   severe_toxic  obscene  threat  insult  identity_hate  \n",
       "0             0        0       0       0              0  \n",
       "1             0        0       0       0              0  \n",
       "2             0        0       0       0              0  \n",
       "3             0        0       0       0              0  \n",
       "4             0        0       0       0              0  "
      ]
     },
     "execution_count": 2,
     "metadata": {},
     "output_type": "execute_result"
    }
   ],
   "source": [
    "# Load the dataset\n",
    "df = pd.read_csv('train.csv')\n",
    "\n",
    "df.head()\n"
   ]
  },
  {
   "cell_type": "code",
   "execution_count": 3,
   "id": "29bc752b-51cb-4466-ba16-4e3e9d2839b9",
   "metadata": {},
   "outputs": [],
   "source": [
    "import re\n",
    "\n",
    "def clean_text(text):\n",
    "    # Remove URLs\n",
    "    text = re.sub(r'http\\S+', '', text)\n",
    "    # Remove punctuation and special characters (keep basic words and spaces)\n",
    "    text = re.sub(r'[^a-zA-Z0-9\\s]', '', text)\n",
    "    # Convert to lowercase\n",
    "    text = text.lower()\n",
    "    return text\n",
    "\n",
    "# Apply cleaning to comment_text\n",
    "df['cleaned_comment_text'] = df['comment_text'].apply(clean_text)\n"
   ]
  },
  {
   "cell_type": "code",
   "execution_count": 4,
   "id": "ac8c867d-e363-4851-b04b-d2a7883821af",
   "metadata": {},
   "outputs": [
    {
     "name": "stdout",
     "output_type": "stream",
     "text": [
      "Training set size: 127656\n",
      "Test set size: 31915\n"
     ]
    }
   ],
   "source": [
    "# Features: the cleaned comment text\n",
    "X = df['cleaned_comment_text']\n",
    "\n",
    "# Labels: the 6 different toxic behaviors\n",
    "y = df[['toxic', 'severe_toxic', 'obscene', 'threat', 'insult', 'identity_hate']]\n",
    "\n",
    "# Split the data into train (80%) and test (20%)\n",
    "X_train, X_test, y_train, y_test = train_test_split(\n",
    "    X, y, \n",
    "    test_size=0.2, \n",
    "    random_state=42\n",
    ")\n",
    "\n",
    "print(\"Training set size:\", X_train.shape[0])\n",
    "print(\"Test set size:\", X_test.shape[0])\n"
   ]
  },
  {
   "cell_type": "code",
   "execution_count": 5,
   "id": "b315a0ea-00e8-4fa9-b942-b59c387a8dc6",
   "metadata": {},
   "outputs": [
    {
     "name": "stdout",
     "output_type": "stream",
     "text": [
      "TF-IDF matrix for training set: (127656, 10000)\n",
      "TF-IDF matrix for test set: (31915, 10000)\n"
     ]
    }
   ],
   "source": [
    "# Initialize TF-IDF Vectorizer\n",
    "tfidf = TfidfVectorizer(stop_words='english', max_features=10000)\n",
    "\n",
    "# Fit TF-IDF on the training set, then transform both training and test sets\n",
    "X_train_tfidf = tfidf.fit_transform(X_train)\n",
    "X_test_tfidf = tfidf.transform(X_test)\n",
    "\n",
    "print(\"TF-IDF matrix for training set:\", X_train_tfidf.shape)\n",
    "print(\"TF-IDF matrix for test set:\", X_test_tfidf.shape)\n"
   ]
  },
  {
   "cell_type": "code",
   "execution_count": 6,
   "id": "7da7a8d5-5f3e-4abd-b817-624d7d36b90c",
   "metadata": {},
   "outputs": [],
   "source": [
    "# Create the Logistic Regression model\n",
    "lr = LogisticRegression(solver='liblinear')  # 'liblinear' is good for small/medium datasets\n",
    "\n",
    "# Wrap it in OneVsRestClassifier for multi-label classification\n",
    "clf = OneVsRestClassifier(lr)\n",
    "\n",
    "# Train (fit) the classifier on the TF-IDF features\n",
    "clf.fit(X_train_tfidf, y_train)\n",
    "\n",
    "# Predict on the test set\n",
    "y_pred = clf.predict(X_test_tfidf)\n"
   ]
  },
  {
   "cell_type": "code",
   "execution_count": 7,
   "id": "ca8605a1-5a44-4bb6-9639-77f59b876b84",
   "metadata": {},
   "outputs": [
    {
     "name": "stdout",
     "output_type": "stream",
     "text": [
      "               precision    recall  f1-score   support\n",
      "\n",
      "        toxic       0.91      0.61      0.73      3056\n",
      " severe_toxic       0.57      0.26      0.36       321\n",
      "      obscene       0.92      0.63      0.74      1715\n",
      "       threat       0.79      0.15      0.25        74\n",
      "       insult       0.83      0.50      0.62      1614\n",
      "identity_hate       0.73      0.15      0.25       294\n",
      "\n",
      "    micro avg       0.88      0.55      0.67      7074\n",
      "    macro avg       0.79      0.38      0.49      7074\n",
      " weighted avg       0.87      0.55      0.67      7074\n",
      "  samples avg       0.06      0.05      0.05      7074\n",
      "\n"
     ]
    },
    {
     "name": "stderr",
     "output_type": "stream",
     "text": [
      "C:\\Users\\Pratik Singh\\anaconda3\\Lib\\site-packages\\sklearn\\metrics\\_classification.py:1531: UndefinedMetricWarning: Precision is ill-defined and being set to 0.0 in samples with no predicted labels. Use `zero_division` parameter to control this behavior.\n",
      "  _warn_prf(average, modifier, f\"{metric.capitalize()} is\", len(result))\n",
      "C:\\Users\\Pratik Singh\\anaconda3\\Lib\\site-packages\\sklearn\\metrics\\_classification.py:1531: UndefinedMetricWarning: Recall is ill-defined and being set to 0.0 in samples with no true labels. Use `zero_division` parameter to control this behavior.\n",
      "  _warn_prf(average, modifier, f\"{metric.capitalize()} is\", len(result))\n",
      "C:\\Users\\Pratik Singh\\anaconda3\\Lib\\site-packages\\sklearn\\metrics\\_classification.py:1531: UndefinedMetricWarning: F-score is ill-defined and being set to 0.0 in samples with no true nor predicted labels. Use `zero_division` parameter to control this behavior.\n",
      "  _warn_prf(average, modifier, f\"{metric.capitalize()} is\", len(result))\n"
     ]
    }
   ],
   "source": [
    "print(classification_report(y_test, y_pred, target_names=y.columns))\n"
   ]
  },
  {
   "cell_type": "code",
   "execution_count": 8,
   "id": "0c293ae7-5ea5-4233-8b15-3edabf7e98e6",
   "metadata": {},
   "outputs": [
    {
     "name": "stdout",
     "output_type": "stream",
     "text": [
      "Comment: geez are you forgetful  weve already discussed why marx  was  not an anarchist ie he wanted to use a state to mold his socialist man  ergo he is a statist  the opposite of an  anarchist  i know a guy who says that when he gets old and his teeth fall out hell quit eating meat  would you call him a vegetarian\n",
      "Prediction: Totally Fine\n",
      "--------------------------------------------------\n",
      "Comment: carioca rfa \n",
      "\n",
      "thanks for your support on my request for adminship\n",
      "\n",
      "the final outcome was 3141 so i am now an administrator if you have any comments or concerns on my actions as an administrator please let me know thank you\n",
      "Prediction: Totally Fine\n",
      "--------------------------------------------------\n",
      "Comment: \n",
      "\n",
      " birthday \n",
      "\n",
      "no worries its what i do enjoy ur daytalke \n",
      "Prediction: Totally Fine\n",
      "--------------------------------------------------\n",
      "Comment: pseudoscience category \n",
      "\n",
      "im assuming that this article is in the pseudoscience category because of its association with creationism  however there are modern scientificallyaccepted variants of catastrophism that have nothing to do with creationism  and theyre even mentioned in the article  i think the connection to pseudoscience needs to be clarified or the article made more general and less creationismspecific and the category tag removed entirely\n",
      "Prediction: Totally Fine\n",
      "--------------------------------------------------\n",
      "Comment: and if such phrase exists it would be provided by search engine even if mentioned page is not available as a whole\n",
      "Prediction: Totally Fine\n",
      "--------------------------------------------------\n"
     ]
    }
   ],
   "source": [
    "def interpret_prediction(prediction_row):\n",
    "    if sum(prediction_row) == 0:\n",
    "        return \"Totally Fine\"\n",
    "    else:\n",
    "        labels = []\n",
    "        if prediction_row[0] == 1: labels.append(\"toxic\")\n",
    "        if prediction_row[1] == 1: labels.append(\"severe_toxic\")\n",
    "        if prediction_row[2] == 1: labels.append(\"obscene\")\n",
    "        if prediction_row[3] == 1: labels.append(\"threat\")\n",
    "        if prediction_row[4] == 1: labels.append(\"insult\")\n",
    "        if prediction_row[5] == 1: labels.append(\"identity_hate\")\n",
    "        return \", \".join(labels)\n",
    "\n",
    "# Example: interpret the first 5 predictions\n",
    "for i in range(5):\n",
    "    print(f\"Comment: {X_test.iloc[i]}\")\n",
    "    print(f\"Prediction: {interpret_prediction(y_pred[i])}\")\n",
    "    print(\"-\"*50)\n"
   ]
  },
  {
   "cell_type": "code",
   "execution_count": 9,
   "id": "076f195a-cf06-4429-8e27-adeb50038822",
   "metadata": {},
   "outputs": [],
   "source": [
    "\n",
    "test_comments = [\n",
    "    \"I love your work. It's amazing!\",               \n",
    "    \"You are stupid.\",                               \n",
    "    \"I will kill you.\",                              \n",
    "    \"That is so disgusting and obscene!\",            \n",
    "    \"Get out, you worthless scum.\",                  \n",
    "    \"Go to hell, you piece of trash!\",               \n",
    "    \"We don't want you around here!\",                \n",
    "    \"If you don't do it, I'm going to find you.\",\n",
    "    \"You are a worthless piece of garbage.\",          \n",
    "    \"Hello, how are you today?\"                       \n",
    "]\n"
   ]
  },
  {
   "cell_type": "code",
   "execution_count": 10,
   "id": "d21e7796-595a-4525-b5fb-12ea8dd4213c",
   "metadata": {},
   "outputs": [],
   "source": [
    "# Clean the new comments\n",
    "test_comments_cleaned = [clean_text(c) for c in test_comments]\n",
    "\n",
    "# Convert them to TF-IDF features using the same fitted vectorizer\n",
    "test_comments_tfidf = tfidf.transform(test_comments_cleaned)\n"
   ]
  },
  {
   "cell_type": "code",
   "execution_count": 11,
   "id": "91c217b4-819a-4112-a649-5610c87b960d",
   "metadata": {},
   "outputs": [
    {
     "name": "stdout",
     "output_type": "stream",
     "text": [
      "Comment: I love your work. It's amazing!\n",
      "Prediction: Totally Fine\n",
      "--------------------------------------------------\n",
      "Comment: You are stupid.\n",
      "Prediction: toxic, obscene, insult\n",
      "--------------------------------------------------\n",
      "Comment: I will kill you.\n",
      "Prediction: toxic, threat\n",
      "--------------------------------------------------\n",
      "Comment: That is so disgusting and obscene!\n",
      "Prediction: toxic\n",
      "--------------------------------------------------\n",
      "Comment: Get out, you worthless scum.\n",
      "Prediction: toxic, insult\n",
      "--------------------------------------------------\n",
      "Comment: Go to hell, you piece of trash!\n",
      "Prediction: toxic, insult\n",
      "--------------------------------------------------\n",
      "Comment: We don't want you around here!\n",
      "Prediction: Totally Fine\n",
      "--------------------------------------------------\n",
      "Comment: If you don't do it, I'm going to find you.\n",
      "Prediction: Totally Fine\n",
      "--------------------------------------------------\n",
      "Comment: You are a worthless piece of garbage.\n",
      "Prediction: toxic, insult\n",
      "--------------------------------------------------\n",
      "Comment: Hello, how are you today?\n",
      "Prediction: Totally Fine\n",
      "--------------------------------------------------\n"
     ]
    }
   ],
   "source": [
    "# Predict labels\n",
    "predictions = clf.predict(test_comments_tfidf)\n",
    "\n",
    "# Print out the results\n",
    "for comment, pred in zip(test_comments, predictions):\n",
    "    print(\"Comment:\", comment)\n",
    "    print(\"Prediction:\", interpret_prediction(pred))\n",
    "    print(\"-\"*50)\n"
   ]
  },
  {
   "cell_type": "code",
   "execution_count": 13,
   "id": "2d8d0424-1b4d-49e0-b246-b1d3269f5c38",
   "metadata": {},
   "outputs": [
    {
     "name": "stdout",
     "output_type": "stream",
     "text": [
      "Requirement already satisfied: joblib in c:\\users\\pratik singh\\anaconda3\\lib\\site-packages (1.4.2)\n",
      "Note: you may need to restart the kernel to use updated packages.\n"
     ]
    }
   ],
   "source": [
    "pip install joblib\n"
   ]
  },
  {
   "cell_type": "code",
   "execution_count": 14,
   "id": "e4d51be9-0ea6-475d-bf34-b6aa753761d7",
   "metadata": {},
   "outputs": [
    {
     "name": "stdout",
     "output_type": "stream",
     "text": [
      "Model saved as text_classification_model.pkl\n"
     ]
    }
   ],
   "source": [
    "import joblib\n",
    "\n",
    "# Save the model to a file named \"text_classification_model.pkl\"\n",
    "joblib.dump(clf, \"text_classification_model.pkl\")\n",
    "print(\"Model saved as text_classification_model.pkl\")\n"
   ]
  },
  {
   "cell_type": "code",
   "execution_count": 15,
   "id": "add21826-877e-4150-a239-eeaea3704116",
   "metadata": {},
   "outputs": [
    {
     "data": {
      "text/plain": [
       "['tfidf_vectorizer.pkl']"
      ]
     },
     "execution_count": 15,
     "metadata": {},
     "output_type": "execute_result"
    }
   ],
   "source": [
    "from sklearn.feature_extraction.text import TfidfVectorizer\n",
    "vectorizer = TfidfVectorizer(stop_words='english', max_features=10000)\n",
    "X_train_tfidf = vectorizer.fit_transform(X_train)\n",
    "\n",
    "# Save the vectorizer\n",
    "import joblib\n",
    "joblib.dump(vectorizer, \"tfidf_vectorizer.pkl\")\n"
   ]
  },
  {
   "cell_type": "code",
   "execution_count": 16,
   "id": "04f962c7-a4ec-4d17-867c-da50c8da2023",
   "metadata": {},
   "outputs": [
    {
     "name": "stdout",
     "output_type": "stream",
     "text": [
      "Comment: I love your work. It's amazing!\n",
      "Prediction: Totally Fine\n",
      "--------------------------------------------------\n",
      "Comment: You are stupid.\n",
      "Prediction: toxic, obscene, insult\n",
      "--------------------------------------------------\n",
      "Comment: I will kill you.\n",
      "Prediction: toxic, threat\n",
      "--------------------------------------------------\n",
      "Comment: That is so disgusting and obscene!\n",
      "Prediction: toxic\n",
      "--------------------------------------------------\n",
      "Comment: Get out, you worthless scum.\n",
      "Prediction: toxic, insult\n",
      "--------------------------------------------------\n",
      "Comment: Go to hell, you piece of trash!\n",
      "Prediction: toxic, insult\n",
      "--------------------------------------------------\n",
      "Comment: We don't want you around here!\n",
      "Prediction: Totally Fine\n",
      "--------------------------------------------------\n",
      "Comment: If you don't do it, I'm going to find you.\n",
      "Prediction: Totally Fine\n",
      "--------------------------------------------------\n",
      "Comment: You are a worthless piece of garbage.\n",
      "Prediction: toxic, insult\n",
      "--------------------------------------------------\n",
      "Comment: Hello, how are you today?\n",
      "Prediction: Totally Fine\n",
      "--------------------------------------------------\n"
     ]
    }
   ],
   "source": [
    "# Predict labels\n",
    "predictions = clf.predict(test_comments_tfidf)\n",
    "\n",
    "# Print out the results\n",
    "for comment, pred in zip(test_comments, predictions):\n",
    "    print(\"Comment:\", comment)\n",
    "    print(\"Prediction:\", interpret_prediction(pred))\n",
    "    print(\"-\"*50)\n"
   ]
  },
  {
   "cell_type": "code",
   "execution_count": null,
   "id": "612b0b24-f6a9-40ac-bbe5-1470561e4174",
   "metadata": {},
   "outputs": [],
   "source": []
  }
 ],
 "metadata": {
  "kernelspec": {
   "display_name": "Python 3 (ipykernel)",
   "language": "python",
   "name": "python3"
  },
  "language_info": {
   "codemirror_mode": {
    "name": "ipython",
    "version": 3
   },
   "file_extension": ".py",
   "mimetype": "text/x-python",
   "name": "python",
   "nbconvert_exporter": "python",
   "pygments_lexer": "ipython3",
   "version": "3.12.7"
  }
 },
 "nbformat": 4,
 "nbformat_minor": 5
}
